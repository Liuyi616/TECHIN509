{
 "cells": [
  {
   "cell_type": "code",
   "execution_count": 1,
   "metadata": {},
   "outputs": [
    {
     "ename": "TypeError",
     "evalue": "game_ended() takes 1 positional argument but 2 were given",
     "output_type": "error",
     "traceback": [
      "\u001b[0;31m---------------------------------------------------------------------------\u001b[0m",
      "\u001b[0;31mTypeError\u001b[0m                                 Traceback (most recent call last)",
      "\u001b[0;32m<ipython-input-1-5d3aa4665adf>\u001b[0m in \u001b[0;36m<module>\u001b[0;34m\u001b[0m\n\u001b[1;32m     10\u001b[0m     \u001b[0msize\u001b[0m \u001b[0;34m=\u001b[0m \u001b[0mboard_full\u001b[0m\u001b[0;34m(\u001b[0m\u001b[0mboard\u001b[0m\u001b[0;34m)\u001b[0m\u001b[0;34m\u001b[0m\u001b[0;34m\u001b[0m\u001b[0m\n\u001b[1;32m     11\u001b[0m     \u001b[0mwinner\u001b[0m \u001b[0;34m=\u001b[0m \u001b[0;32mNone\u001b[0m\u001b[0;34m\u001b[0m\u001b[0;34m\u001b[0m\u001b[0m\n\u001b[0;32m---> 12\u001b[0;31m     \u001b[0;32mwhile\u001b[0m \u001b[0;32mnot\u001b[0m \u001b[0mgame_ended\u001b[0m\u001b[0;34m(\u001b[0m\u001b[0mboard\u001b[0m\u001b[0;34m,\u001b[0m \u001b[0mget_board_size\u001b[0m\u001b[0;34m(\u001b[0m\u001b[0mboard\u001b[0m\u001b[0;34m)\u001b[0m\u001b[0;34m)\u001b[0m\u001b[0;34m:\u001b[0m\u001b[0;34m\u001b[0m\u001b[0;34m\u001b[0m\u001b[0m\n\u001b[0m\u001b[1;32m     13\u001b[0m         \u001b[0mprint\u001b[0m\u001b[0;34m(\u001b[0m\u001b[0;34m\"TODO: take a turn!\"\u001b[0m\u001b[0;34m)\u001b[0m\u001b[0;34m\u001b[0m\u001b[0;34m\u001b[0m\u001b[0m\n\u001b[1;32m     14\u001b[0m         \u001b[0muser_in\u001b[0m \u001b[0;34m=\u001b[0m \u001b[0minput\u001b[0m\u001b[0;34m(\u001b[0m\u001b[0;34m\"Player \"\u001b[0m \u001b[0;34m+\u001b[0m \u001b[0mturn\u001b[0m \u001b[0;34m+\u001b[0m \u001b[0;34m\", place your piece: \"\u001b[0m\u001b[0;34m)\u001b[0m\u001b[0;34m\u001b[0m\u001b[0;34m\u001b[0m\u001b[0m\n",
      "\u001b[0;31mTypeError\u001b[0m: game_ended() takes 1 positional argument but 2 were given"
     ]
    }
   ],
   "source": [
    "# This file contains the Command Line Interface (CLI) for\n",
    "# the Tic-Tac-Toe game. This is where input and output happens.\n",
    "# For core game logic, see logic.py.\n",
    "\n",
    "from logic import make_empty_board, get_board_size, board_full, game_ended, get_winner\n",
    "\n",
    "\n",
    "if __name__ == '__main__':\n",
    "    board = make_empty_board()\n",
    "    size = board_full(board)\n",
    "    winner = None\n",
    "    while not game_ended(board, get_board_size(board)):\n",
    "        print(\"TODO: take a turn!\")\n",
    "        user_in = input(\"Player \" + turn + \", place your piece: \")\n",
    "        # TODO: Show the board to the user.\n",
    "        # TODO: Input a move from the player.\n",
    "        # TODO: Update the board.\n",
    "        # TODO: Update who's turn it is.\n",
    "    winner = get_winner(board, get_board_size(board))\n",
    "    if winner is not None:\n",
    "        print('Game ended! Player %s won!' % winner)\n",
    "    else:\n",
    "        print('There was a tie. No one won.')"
   ]
  },
  {
   "cell_type": "code",
   "execution_count": 2,
   "metadata": {},
   "outputs": [],
   "source": [
    "MAX_BOARD_SIZE = 9\n",
    "\n",
    "\n",
    "def make_empty_board():\n",
    "    return [\n",
    "        [None, None, None],\n",
    "        [None, None, None],\n",
    "        [None, None, None],\n",
    "    ]\n",
    "\n",
    "\n",
    "def print_board(board):\n",
    "    print('\\n')\n",
    "    for coord in sorted(board.keys()):\n",
    "        x, y = coord\n",
    "        if y == 0 and x != 0:           # if is new row\n",
    "            print('\\n' + '-' * 2* len(board))\n",
    "\n",
    "        val = board[coord]\n",
    "        if val is not None:\n",
    "            print(\"  %s  |\" % (val), end=\"\")\n",
    "        else:\n",
    "            print(\"(%1d,%1d)|\" % (coord), end=\"\")\n",
    "    print('\\n')\n",
    "\n",
    "\n",
    "def get_board_size(board):\n",
    "    size = 0\n",
    "    for items in board:\n",
    "        for eachItem in items:\n",
    "            if eachItem is not None:\n",
    "                size += 1\n",
    "    return size\n",
    "\n",
    "\n",
    "def board_full(board):\n",
    "    if get_board_size(board) == MAX_BOARD_SIZE:\n",
    "        return True\n",
    "    else:\n",
    "        return False\n",
    "\n",
    "\n",
    "def has_won(board, size, player):\n",
    "    for n in range(size):\n",
    "        rows = [board[(x, y)] for x, y in sorted(board.keys()) if n is x]\n",
    "        cols = [board[(x, y)] for x, y in sorted(board.keys()) if n is y]\n",
    "        diagonals = [board[(x, y)] for x, y in sorted(board.keys()) if x is y]\n",
    "        if rows.count(player) is size or cols.count(player) is size or diagonals.count(player) is size:\n",
    "            return True\n",
    "    return False\n",
    "\n",
    "\n",
    "def get_winner(board):\n",
    "    if has_won(board, get_board_size(board), 'X'):\n",
    "        return 'X'\n",
    "    elif has_won(board, get_board_size(board), 'O'):\n",
    "        return 'O'\n",
    "    elif board_full(board):\n",
    "        return None\n",
    "\n",
    "\n",
    "def valid_move(user_in):\n",
    "    user_in = user_in.strip()\n",
    "    matches = re.match(r\"[0-9]+\\s*,\\s*[0-9]+\", user_in)\n",
    "    if matches is not None:\n",
    "        return tuple(map(int, user_in.split(',')))\n",
    "    else:\n",
    "        return False\n",
    "\n",
    "\n",
    "def place_piece(board, coord, player):\n",
    "    if coord in board.keys() and board[coord] is None:\n",
    "        board[coord] = player\n",
    "        return True\n",
    "    else:\n",
    "        return False\n",
    "\n",
    "\n",
    "def game_ended(board):\n",
    "    return board_full(board) or has_won(board, get_board_size(board), 'X') or has_won(board, get_board_size(board), 'O')\n",
    "\n",
    "\n",
    "def other_player(player):\n",
    "    if player == 'X':\n",
    "        return \"O\"\n",
    "    elif player == 'O':\n",
    "        return 'X'"
   ]
  },
  {
   "cell_type": "code",
   "execution_count": 3,
   "metadata": {},
   "outputs": [
    {
     "name": "stderr",
     "output_type": "stream",
     "text": [
      "E\n",
      "======================================================================\n",
      "ERROR: /Users/zhaoliuyi/Library/Jupyter/runtime/kernel-97b185ba-84de-4e16-b09b-c52fd2197e50 (unittest.loader._FailedTest)\n",
      "----------------------------------------------------------------------\n",
      "AttributeError: module '__main__' has no attribute '/Users/zhaoliuyi/Library/Jupyter/runtime/kernel-97b185ba-84de-4e16-b09b-c52fd2197e50'\n",
      "\n",
      "----------------------------------------------------------------------\n",
      "Ran 1 test in 0.001s\n",
      "\n",
      "FAILED (errors=1)\n"
     ]
    },
    {
     "ename": "SystemExit",
     "evalue": "True",
     "output_type": "error",
     "traceback": [
      "An exception has occurred, use %tb to see the full traceback.\n",
      "\u001b[0;31mSystemExit\u001b[0m\u001b[0;31m:\u001b[0m True\n"
     ]
    },
    {
     "name": "stderr",
     "output_type": "stream",
     "text": [
      "/Users/zhaoliuyi/opt/anaconda3/lib/python3.8/site-packages/IPython/core/interactiveshell.py:3426: UserWarning: To exit: use 'exit', 'quit', or Ctrl-D.\n",
      "  warn(\"To exit: use 'exit', 'quit', or Ctrl-D.\", stacklevel=1)\n"
     ]
    }
   ],
   "source": [
    "import unittest\n",
    "import logic\n",
    "\n",
    "\n",
    "class TestLogic(unittest.TestCase):\n",
    "\n",
    "    def test_get_winner(self):\n",
    "        board = [\n",
    "            ['X', None, 'O'],\n",
    "            [None, 'X', None],\n",
    "            [None, 'O', 'X'],\n",
    "        ]\n",
    "        self.assertEqual(logic.get_winner(board), 'X')\n",
    "\n",
    "    # TODO: Test all functions from logic.py!\n",
    "\n",
    "\n",
    "if __name__ == '__main__':\n",
    "    unittest.main()"
   ]
  },
  {
   "cell_type": "code",
   "execution_count": null,
   "metadata": {},
   "outputs": [],
   "source": []
  }
 ],
 "metadata": {
  "kernelspec": {
   "display_name": "Python 3",
   "language": "python",
   "name": "python3"
  },
  "language_info": {
   "codemirror_mode": {
    "name": "ipython",
    "version": 3
   },
   "file_extension": ".py",
   "mimetype": "text/x-python",
   "name": "python",
   "nbconvert_exporter": "python",
   "pygments_lexer": "ipython3",
   "version": "3.8.5"
  }
 },
 "nbformat": 4,
 "nbformat_minor": 4
}
